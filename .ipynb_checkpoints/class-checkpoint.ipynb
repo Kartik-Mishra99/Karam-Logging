{
 "cells": [
  {
   "cell_type": "code",
   "execution_count": 129,
   "metadata": {},
   "outputs": [],
   "source": [
    "import pandas as pd\n",
    "from datetime import timedelta\n",
    "from dateutil.parser import parse\n",
    "import numpy as np\n",
    "import datetime"
   ]
  },
  {
   "cell_type": "code",
   "execution_count": 130,
   "metadata": {},
   "outputs": [],
   "source": [
    "class KaramLogger_overall:\n",
    "    def __init__(self,data):\n",
    "        self.dataframe = data\n",
    "        self.data = pd.read_csv(self.dataframe)\n",
    "        self.data = self.data[[\"email\",\"created_at\",'login']]\n",
    "        self.startdates = []\n",
    "        self.enddates = []\n",
    "        \n",
    "    def preprocess(self):\n",
    "        dates = []\n",
    "        time = []\n",
    "        for i in list(self.data['created_at']):\n",
    "            dates.append(i.split(\"T\")[0])\n",
    "        \n",
    "        for i in list(self.data['created_at']):\n",
    "            t = i.split(\"T\")[1].split(\".\")[0]\n",
    "            time.append(t)\n",
    "        self.data['Time'] = time\n",
    "        self.data['Date'] = dates\n",
    "        self.data['Date'] = pd.to_datetime(self.data['Date'])\n",
    "        self.data[['Hour','Minutes','Seconds']] = self.data['Time'].astype(str).str.split(':', expand=True).astype(int)\n",
    "        self.data.drop(columns=['created_at'],inplace=True)\n",
    "        self.data[\"Week\"] = pd.DatetimeIndex(self.data['Date']).week\n",
    "        self.data['Year'] = pd.DatetimeIndex(self.data['Date']).year\n",
    "        self.data = self.data.sort_values('Date',ascending=True)\n",
    "        self.data['login'] = self.data['login'].replace(np.NaN,\"Logout\")\n",
    "        self.data = self.data[self.data['login']==True]\n",
    "        return self.data\n",
    "    \n",
    "    def get_start_end_dates(self,year,week):\n",
    "        first_day_year = str(year) + '-' +  '01' + '-' + '01'\n",
    "        d = parse(first_day_year)\n",
    "        if(d.weekday()<= 3):\n",
    "            d = d - timedelta(d.weekday())             \n",
    "        else:\n",
    "            d = d + timedelta(7-d.weekday())\n",
    "        dlt = timedelta(days = (int(week)-1)*7)\n",
    "        self.startdates.append((d + dlt).strftime('%Y-%m-%d'))\n",
    "        self.enddates.append((d + dlt + timedelta(days=6)).strftime('%Y-%m-%d'))\n",
    "        \n",
    "    def gettotaltime(self,data):\n",
    "        time = []\n",
    "        for i in data['TotalSeconds']:     \n",
    "            mini, sec = divmod(i, 60)\n",
    "            hour, mini = divmod(mini, 60)\n",
    "            t = \"%d:%02d:%02d\" % (hour, mini, sec)\n",
    "            time.append(t)\n",
    "        return time \n",
    "    \n",
    "    def findAnomaly(self,grouped):\n",
    "        grouped['Anomaly'] = grouped['TotalSeconds'].map(lambda x: \"Anomaly\" if x>604800 else \"Non-Anomaly\")\n",
    "        Anomaly = grouped[grouped['Anomaly']=='Anomaly']\n",
    "        ignoremails = ['dashboard@demo.com','sethi.sankalp@karam.in'] # ignore these mails\n",
    "        Anomaly = Anomaly.loc[~Anomaly.email.isin(ignoremails)]\n",
    "        return Anomaly\n",
    "    \n",
    "    def runner(self):\n",
    "        preprocesseddata = self.preprocess()\n",
    "        for (a,b) in zip(preprocesseddata['Year'],preprocesseddata['Week']):\n",
    "            self.get_start_end_dates(a,b)\n",
    "        preprocesseddata['StartDate'] = self.startdates\n",
    "        preprocesseddata['EndDate'] = self.enddates\n",
    "        grouped = preprocesseddata.groupby(['StartDate','EndDate','email'])['Hour','Minutes','Seconds'].sum().reset_index()\n",
    "        grouped['Hour'] = grouped['Hour'].apply(lambda x:x*3600)\n",
    "        grouped['Minutes'] = grouped['Minutes'].apply(lambda x: x*60)\n",
    "        grouped['TotalSeconds'] = [a+b+c for a,b,c in zip(grouped['Hour'],grouped['Minutes'],grouped['Seconds'])]\n",
    "        grouped.drop(columns=['Hour','Minutes','Seconds'],axis=1,inplace=True)\n",
    "        grouped['TimeSpent'] = self.gettotaltime(grouped)\n",
    "        Anamoly = self.findAnomaly(grouped)\n",
    "        grouped.drop(columns=['TotalSeconds'],axis=1,inplace=True)\n",
    "        grouped = grouped[::-1]\n",
    "        return grouped,Anamoly\n",
    "        \n",
    "        \n",
    "        "
   ]
  },
  {
   "cell_type": "code",
   "execution_count": 131,
   "metadata": {},
   "outputs": [],
   "source": [
    "karam = KaramLogger_overall(\"logs.csv\")"
   ]
  },
  {
   "cell_type": "code",
   "execution_count": 132,
   "metadata": {
    "scrolled": true
   },
   "outputs": [
    {
     "name": "stderr",
     "output_type": "stream",
     "text": [
      "c:\\users\\karti\\miniconda3\\envs\\kartik\\lib\\site-packages\\ipykernel_launcher.py:63: FutureWarning: Indexing with multiple keys (implicitly converted to a tuple of keys) will be deprecated, use a list instead.\n"
     ]
    }
   ],
   "source": [
    "grouped,Anamoly = karam.runner()"
   ]
  },
  {
   "cell_type": "code",
   "execution_count": null,
   "metadata": {},
   "outputs": [],
   "source": []
  },
  {
   "cell_type": "code",
   "execution_count": null,
   "metadata": {},
   "outputs": [],
   "source": []
  },
  {
   "cell_type": "code",
   "execution_count": null,
   "metadata": {},
   "outputs": [],
   "source": []
  },
  {
   "cell_type": "code",
   "execution_count": null,
   "metadata": {},
   "outputs": [],
   "source": []
  },
  {
   "cell_type": "code",
   "execution_count": 165,
   "metadata": {},
   "outputs": [],
   "source": [
    "class KaramLogger_weekly:\n",
    "    def __init__(self,data):\n",
    "        self.dataframe = data\n",
    "        self.data = pd.read_csv(self.dataframe)\n",
    "        self.data = self.data[[\"email\",\"created_at\",'login']]\n",
    "        self.startdates = []\n",
    "        self.enddates = []\n",
    "        \n",
    "    def preprocess(self):\n",
    "        dates = []\n",
    "        time = []\n",
    "        for i in list(self.data['created_at']):\n",
    "            dates.append(i.split(\"T\")[0])\n",
    "        \n",
    "        for i in list(self.data['created_at']):\n",
    "            t = i.split(\"T\")[1].split(\".\")[0]\n",
    "            time.append(t)\n",
    "        self.data['Time'] = time\n",
    "        self.data['Date'] = dates\n",
    "        self.data['Date'] = pd.to_datetime(self.data['Date'])\n",
    "        self.data[['Hour','Minutes','Seconds']] = self.data['Time'].astype(str).str.split(':', expand=True).astype(int)\n",
    "        self.data.drop(columns=['created_at'],inplace=True)\n",
    "        self.data[\"Week\"] = pd.DatetimeIndex(self.data['Date']).week\n",
    "        self.data['Year'] = pd.DatetimeIndex(self.data['Date']).year\n",
    "        self.data['Day'] = pd.DatetimeIndex(self.data['Date']).dayofweek\n",
    "        self.data = self.data.sort_values('Date',ascending=True)\n",
    "        self.data['login'] = self.data['login'].replace(np.NaN,\"Logout\")\n",
    "        self.data = self.data[self.data['login']==True]\n",
    "        return self.data\n",
    "    \n",
    "    def gettotaltime(self,data):\n",
    "        time = []\n",
    "        for i in data['TotalSeconds']:     \n",
    "            mini, sec = divmod(i, 60)\n",
    "            hour, mini = divmod(mini, 60)\n",
    "            t = \"%d:%02d:%02d\" % (hour, mini, sec)\n",
    "            time.append(t)\n",
    "        return time    \n",
    "    \n",
    "    def findAnomaly(self,grouped):\n",
    "        grouped['Anomaly'] = grouped['TotalSeconds'].map(lambda x: \"Anomaly\" if x>604800 else \"Non-Anomaly\")\n",
    "        Anomaly = grouped[grouped['Anomaly']=='Anomaly']\n",
    "        ignoremails = ['dashboard@demo.com','sethi.sankalp@karam.in'] # ignore these mails\n",
    "        Anomaly = Anomaly.loc[~Anomaly.email.isin(ignoremails)]\n",
    "        return Anomaly\n",
    "        \n",
    "        \n",
    "    def getrecentweekdetails(self,grouped):\n",
    "        grouped['Day'] = grouped['Date'].dt.dayofweek\n",
    "        grouped['DayName'] = grouped['Day'].map({0:\"Monday\",1:\"Tuesday\",2:\"Wednesday\",3:\"Thursday\",4:\"Friday\",5:\"Saturday\",6:\"Sunday\"})\n",
    "        filter = grouped[\"Day\"]==0\n",
    "        onlymonday = grouped.head().where(filter)\n",
    "        onlymonday.dropna(inplace=True)\n",
    "        recentmonday = onlymonday['Date']\n",
    "        lastmonday = pd.to_datetime(recentmonday)-datetime.timedelta(days=7)\n",
    "        recentmonday = str(recentmonday).split()[1]\n",
    "        lastmonday = str(lastmonday).split()[1]\n",
    "        mask = (grouped['Date'] > lastmonday) & (grouped['Date'] <= recentmonday)\n",
    "        grouped = grouped[mask]\n",
    "        grouped = grouped.drop(columns=['Day','DayName'],axis=1)\n",
    "        return grouped\n",
    "    \n",
    "    def runner(self):\n",
    "        preprocesseddata = self.preprocess()\n",
    "        grouped = preprocesseddata.groupby(['Date','email'])['Hour','Minutes','Seconds'].sum().reset_index()\n",
    "        grouped['Hour'] = grouped['Hour'].apply(lambda x:x*3600)\n",
    "        grouped['Minutes'] = grouped['Minutes'].apply(lambda x: x*60)\n",
    "        grouped['TotalSeconds'] = [a+b+c for a,b,c in zip(grouped['Hour'],grouped['Minutes'],grouped['Seconds'])]\n",
    "        grouped.drop(columns=['Hour','Minutes','Seconds'],axis=1,inplace=True)\n",
    "        grouped['TimeSpent'] = self.gettotaltime(grouped)\n",
    "        Anamoly = self.findAnomaly(grouped)\n",
    "        Anamoly = Anamoly[['Date','email','TimeSpent','Anomaly']] # we don;t want total seconds column here \n",
    "        grouped.drop(columns=['TotalSeconds'],axis=1,inplace=True)\n",
    "        grouped = grouped[::-1]\n",
    "        pastweekdata = self.getrecentweekdetails(grouped)   \n",
    "        pastweekdata = pastweekdata[['Date','email','TimeSpent']]\n",
    "        return pastweekdata[::-1],Anamoly\n",
    "        \n",
    "        "
   ]
  },
  {
   "cell_type": "code",
   "execution_count": 167,
   "metadata": {},
   "outputs": [
    {
     "name": "stderr",
     "output_type": "stream",
     "text": [
      "c:\\users\\karti\\miniconda3\\envs\\kartik\\lib\\site-packages\\ipykernel_launcher.py:65: FutureWarning: Indexing with multiple keys (implicitly converted to a tuple of keys) will be deprecated, use a list instead.\n"
     ]
    }
   ],
   "source": [
    "weekly = KaramLogger_weekly(\"logs.csv\")\n",
    "pastweekdata,Anamoly = weekly.runner()"
   ]
  },
  {
   "cell_type": "code",
   "execution_count": 168,
   "metadata": {},
   "outputs": [
    {
     "data": {
      "text/html": [
       "<div>\n",
       "<style scoped>\n",
       "    .dataframe tbody tr th:only-of-type {\n",
       "        vertical-align: middle;\n",
       "    }\n",
       "\n",
       "    .dataframe tbody tr th {\n",
       "        vertical-align: top;\n",
       "    }\n",
       "\n",
       "    .dataframe thead th {\n",
       "        text-align: right;\n",
       "    }\n",
       "</style>\n",
       "<table border=\"1\" class=\"dataframe\">\n",
       "  <thead>\n",
       "    <tr style=\"text-align: right;\">\n",
       "      <th></th>\n",
       "      <th>Date</th>\n",
       "      <th>email</th>\n",
       "      <th>TimeSpent</th>\n",
       "    </tr>\n",
       "  </thead>\n",
       "  <tbody>\n",
       "    <tr>\n",
       "      <th>509</th>\n",
       "      <td>2020-08-12</td>\n",
       "      <td>rohitrana@karam.in</td>\n",
       "      <td>3:57:54</td>\n",
       "    </tr>\n",
       "    <tr>\n",
       "      <th>510</th>\n",
       "      <td>2020-08-13</td>\n",
       "      <td>dhanirams@karam.in</td>\n",
       "      <td>9:15:56</td>\n",
       "    </tr>\n",
       "    <tr>\n",
       "      <th>511</th>\n",
       "      <td>2020-08-17</td>\n",
       "      <td>mayank@karam.in</td>\n",
       "      <td>5:02:51</td>\n",
       "    </tr>\n",
       "  </tbody>\n",
       "</table>\n",
       "</div>"
      ],
      "text/plain": [
       "          Date               email TimeSpent\n",
       "509 2020-08-12  rohitrana@karam.in   3:57:54\n",
       "510 2020-08-13  dhanirams@karam.in   9:15:56\n",
       "511 2020-08-17     mayank@karam.in   5:02:51"
      ]
     },
     "execution_count": 168,
     "metadata": {},
     "output_type": "execute_result"
    }
   ],
   "source": [
    "pastweekdata"
   ]
  },
  {
   "cell_type": "code",
   "execution_count": null,
   "metadata": {},
   "outputs": [],
   "source": []
  }
 ],
 "metadata": {
  "kernelspec": {
   "display_name": "Python 3",
   "language": "python",
   "name": "python3"
  },
  "language_info": {
   "codemirror_mode": {
    "name": "ipython",
    "version": 3
   },
   "file_extension": ".py",
   "mimetype": "text/x-python",
   "name": "python",
   "nbconvert_exporter": "python",
   "pygments_lexer": "ipython3",
   "version": "3.6.10"
  }
 },
 "nbformat": 4,
 "nbformat_minor": 4
}
